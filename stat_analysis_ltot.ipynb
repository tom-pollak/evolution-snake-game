{
 "cells": [
  {
   "cell_type": "code",
   "execution_count": 2,
   "metadata": {},
   "outputs": [],
   "source": [
    "import numpy as np\n",
    "import matplotlib.pyplot as plt"
   ]
  },
  {
   "attachments": {},
   "cell_type": "markdown",
   "metadata": {},
   "source": [
    "## Adapted data of Ltot\n",
    "\n",
    "Taken from exported graph csv"
   ]
  },
  {
   "cell_type": "code",
   "execution_count": 3,
   "metadata": {},
   "outputs": [
    {
     "name": "stdout",
     "output_type": "stream",
     "text": [
      "adapted_data mean: 435.4175824175824\n",
      "adapted_data std: 192.87683628827202\n"
     ]
    }
   ],
   "source": [
    "adapted_data = np.array([16, 433, 480, 491, 411, 502, 390, 651, 632, 61, 474, 609, 449, 543, 546, 534, 8, 580, 512, 494, 600, 650, 8, 557, 556, 430, 195, 577, 8, 16, 610, 159, 604, 572, 510, 512, 245, 64, 408, 198, 485, 516, 572, 573, 308, 521, 428, 464, 98, 343, 555, 611, 517, 8, 391, 593, 47, 530, 201, 493, 508, 49, 616, 570, 532, 515, 445, 528, 546, 581, 380, 532, 457, 575, 550, 522, 578, 495, 496, 75, 473, 702, 426, 689, 461, 563, 467, 530, 534, 574, 550, 627, 574, 463, 129, 491, 372, 574, 87, 424, 173, 675, 575, 549, 505, 8, 535, 605, 542, 574, 481, 445, 503, 554, 381, 524, 607, 431, 16, 534, 515, 564, 439, 513, 531, 120, 628, 481, 576, 538, 215, 598, 595, 505, 594, 507, 319, 391, 401, 611, 16, 595, 16, 635, 554, 525, 449, 16, 16, 191, 588, 122, 481, 581, 507, 63, 594, 571, 536, 517, 467, 499, 615, 634, 202, 522, 484, 24, 587, 437, 16, 551, 470, 600, 16, 527, 459, 590, 525, 67, 624, 90])\n",
    "print(\"adapted_data mean:\", np.mean(adapted_data))\n",
    "print(\"adapted_data std:\", np.std(adapted_data))"
   ]
  },
  {
   "attachments": {},
   "cell_type": "markdown",
   "metadata": {},
   "source": [
    "## Non-adapted data of Ltot"
   ]
  },
  {
   "cell_type": "code",
   "execution_count": 4,
   "metadata": {},
   "outputs": [
    {
     "name": "stdout",
     "output_type": "stream",
     "text": [
      "adapted_data mean: 0.024875621890547265\n",
      "adapted_data std: 0.15574602828356746\n"
     ]
    }
   ],
   "source": [
    "non_adapted_data = [0, 0, 0, 0, 0, 0, 0, 0, 0, 0, 0, 0, 0, 0, 0, 0, 0, 0, 0, 0, 0, 0, 0, 0, 0, 0, 0, 0, 0, 0, 0, 0, 0, 0, 0, 0, 0, 0, 0, 0, 0, 0, 0, 0, 0, 0, 0, 0, 0, 0, 0, 0, 0, 0, 0, 0, 0, 1, 0, 0, 0, 0, 0, 0, 0, 1, 0, 0, 0, 0, 0, 0, 1, 0, 0, 0, 0, 0, 0, 0, 0, 0, 0, 0, 0, 0, 0, 0, 0, 0, 0, 0, 0, 0, 0, 0, 0, 0, 0, 0, 0, 0, 0, 0, 0, 0, 0, 1, 0, 0, 0, 0, 0, 0, 0, 0, 0, 0, 0, 0, 0, 0, 0, 0, 0, 0, 0, 0, 0, 0, 0, 0, 0, 0, 0, 0, 0, 0, 0, 0, 0, 0, 0, 0, 0, 0, 0, 0, 0, 0, 0, 0, 0, 0, 1, 0, 0, 0, 0, 0, 0, 0, 0, 0, 0, 0, 0, 0, 0, 0, 0, 0, 0, 0, 0, 0, 0, 0, 0, 0, 0, 0, 0, 0, 0, 0, 0, 0, 0, 0, 0, 0, 0, 0, 0, 0, 0, 0, 0, 0, 0]\n",
    "print(\"adapted_data mean:\", np.mean(non_adapted_data))\n",
    "print(\"adapted_data std:\", np.std(non_adapted_data))"
   ]
  },
  {
   "attachments": {},
   "cell_type": "markdown",
   "metadata": {},
   "source": [
    "## Normal Distribution and Variance\n",
    "\n",
    "- Neither adapted data or non-adapted data follow a normal distribution.\n",
    "- The variances of the two datasets are not similar."
   ]
  },
  {
   "attachments": {},
   "cell_type": "markdown",
   "metadata": {},
   "source": [
    "## Augmenting data for 3 games"
   ]
  },
  {
   "cell_type": "code",
   "execution_count": 5,
   "metadata": {},
   "outputs": [
    {
     "name": "stdout",
     "output_type": "stream",
     "text": [
      "adapted_data_3_runs mean: 436.0492333333333\n",
      "adapted_data_3_runs std: 111.76498849754634\n"
     ]
    }
   ],
   "source": [
    "np.random.seed(20)\n",
    "\n",
    "# we need the best of 3 scores, so we can use the max of 3 random samples of the distribution\n",
    "# repeated 10000 times, then take confidence interval\n",
    "aug_n = 10000\n",
    "k = 3  # games\n",
    "conf_interval = 0.05\n",
    "adapted_data_3_runs = []\n",
    "\n",
    "for _ in range(aug_n):\n",
    "    # each score is independent\n",
    "    rand_scores = np.random.choice(adapted_data, size=k, replace=True)\n",
    "    adapted_data_3_runs.append(np.mean(rand_scores))\n",
    "\n",
    "print(\"adapted_data_3_runs mean:\", np.mean(adapted_data_3_runs))\n",
    "print(\"adapted_data_3_runs std:\", np.std(adapted_data_3_runs))"
   ]
  },
  {
   "cell_type": "code",
   "execution_count": 6,
   "metadata": {},
   "outputs": [
    {
     "name": "stdout",
     "output_type": "stream",
     "text": [
      "Adapted data does not follow a normal distribution\n"
     ]
    },
    {
     "data": {
      "image/png": "[encoded data removed]",
      "text/plain": [
       "<Figure size 640x480 with 1 Axes>"
      ]
     },
     "metadata": {},
     "output_type": "display_data"
    }
   ],
   "source": [
    "print(\"Adapted data does not follow a normal distribution\")\n",
    "plt.hist(adapted_data_3_runs, bins=100)\n",
    "plt.show()\n"
   ]
  },
  {
   "cell_type": "code",
   "execution_count": 7,
   "metadata": {},
   "outputs": [
    {
     "name": "stdout",
     "output_type": "stream",
     "text": [
      "non_adapted_data_3_runs mean: 0.026733333333333324\n",
      "non_adapted_data_3_runs std: 0.09343325603516839\n"
     ]
    }
   ],
   "source": [
    "np.random.seed(20)\n",
    "\n",
    "# we need the best of 3 scores, so we can use the max of 3 random samples of the distribution\n",
    "# repeated 10000 times, then take confidence interval\n",
    "aug_n = 10000\n",
    "k = 3  # games\n",
    "conf_interval = 0.05\n",
    "non_adapted_data_3_runs = []\n",
    "\n",
    "for _ in range(aug_n):\n",
    "    # each score is independent\n",
    "    rand_scores = np.random.choice(non_adapted_data, size=k, replace=True)\n",
    "    non_adapted_data_3_runs.append(np.mean(rand_scores))\n",
    "\n",
    "print(\"non_adapted_data_3_runs mean:\", np.mean(non_adapted_data_3_runs))\n",
    "print(\"non_adapted_data_3_runs std:\", np.std(non_adapted_data_3_runs))"
   ]
  },
  {
   "cell_type": "code",
   "execution_count": 8,
   "metadata": {},
   "outputs": [
    {
     "name": "stdout",
     "output_type": "stream",
     "text": [
      "Non adapted data does not follow a normal distribution\n"
     ]
    },
    {
     "data": {
      "image/png": "[encoded data removed]",
      "text/plain": [
       "<Figure size 640x480 with 1 Axes>"
      ]
     },
     "metadata": {},
     "output_type": "display_data"
    }
   ],
   "source": [
    "print(\"Non adapted data does not follow a normal distribution\")\n",
    "plt.hist(non_adapted_data_3_runs, bins=100)\n",
    "plt.show()"
   ]
  },
  {
   "attachments": {},
   "cell_type": "markdown",
   "metadata": {},
   "source": [
    "## Mann-Whitney Test"
   ]
  },
  {
   "cell_type": "code",
   "execution_count": 9,
   "metadata": {},
   "outputs": [
    {
     "name": "stdout",
     "output_type": "stream",
     "text": [
      "U-statistic: 100000000.0\n",
      "P-value: 0.0\n",
      "Reject H0. The difference between the adapted data and non-adapted data is statistically significant.\n"
     ]
    }
   ],
   "source": [
    "from scipy.stats import mannwhitneyu\n",
    "\n",
    "# Perform Mann-Whitney U test\n",
    "u_statistic, p_value = mannwhitneyu(adapted_data_3_runs, non_adapted_data_3_runs, alternative=\"two-sided\")\n",
    "\n",
    "print(\"U-statistic:\", u_statistic)\n",
    "print(\"P-value:\", p_value)\n",
    "\n",
    "conf_level = 0.05\n",
    "\n",
    "if p_value < conf_level:\n",
    "    print(\"Reject H0. The difference between the adapted data and non-adapted data is statistically significant.\")\n",
    "else:\n",
    "    print(\"Failed to reject H0. The difference between the adapted data and non-adapted data is not statistically significant.\")\n"
   ]
  }
 ],
 "metadata": {
  "kernelspec": {
   "display_name": ".venv",
   "language": "python",
   "name": "python3"
  },
  "language_info": {
   "codemirror_mode": {
    "name": "ipython",
    "version": 3
   },
   "file_extension": ".py",
   "mimetype": "text/x-python",
   "name": "python",
   "nbconvert_exporter": "python",
   "pygments_lexer": "ipython3",
   "version": "3.11.2"
  },
  "orig_nbformat": 4
 },
 "nbformat": 4,
 "nbformat_minor": 2
}
